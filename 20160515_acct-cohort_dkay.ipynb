{
 "cells": [
  {
   "cell_type": "markdown",
   "metadata": {
    "slideshow": {
     "slide_type": "slide"
    }
   },
   "source": [
    "# Accountability Cohort Information\n",
    "_David Kay, dkay@mdek12.org_\n",
    "\n",
    "---\n",
    "\n",
    "### Purpose:\n",
    "create datafile for Accountability Cohort 2011-2014\n",
    "\n",
    "### Environment:\n",
    "* OSX 10.11.3\n",
    "  * 'R' Studio 0.99.892\n",
    "* 'R' Stats software\n",
    "  * 'dplyr/stringr' libraries for data munging\n",
    "  * 'readr' library for advanced data file importing (speed/column class assignment)\n",
    "  * 'lubridate' library for date/time analysis\n",
    "  * 'foreign' library for binary file import/export\n",
    "* Input Data\n",
    "  * exported by MONTH/YEAR by pl_sql in pipe delim \"|\" format\n",
    "```\n",
    "SY2011-2012/Month1_SY2011-12.txt\n",
    "SY2012-2013/Month1_SY2012-13.txt\n",
    "```"
   ]
  },
  {
   "cell_type": "markdown",
   "metadata": {
    "slideshow": {
     "slide_type": "slide"
    }
   },
   "source": [
    "## Functions\n",
    "##### calcPeerGrade.R\n",
    "```R\n",
    "calcPeerGrade <- function(bDate,curYear) {\n",
    "        require(lubridate)                                     #load lubridate library\n",
    "        curYearStart <- as.Date(paste(curYear,\"09\",\"01\",sep = \"-\"),format = \"%Y-%m-%d\") #reformat date\n",
    "        currentAge <- as.period(interval(bDate,curYearStart),  # calculate days\n",
    "                      unit = \"days\")\n",
    "        temp <- currentAge %/% 365.25                          #calculate IAW standards\n",
    "        pGrade <- temp - 5\n",
    "        pGrade                                                 #return peer grade\n",
    "}\n",
    "```\n",
    "##### readFunc.R\n",
    "```R\n",
    "readFunc<-function(filename){\n",
    "        temp <- read_delim(filename,                       # take filename from list and read file\n",
    "                     delim=\"|\",\n",
    "                     progress = interactive(),             # makes it pretty\n",
    "                     quote = \"\",               \n",
    "                     na = \"\",                              # don't exit if you find this\n",
    "                     col_names = F,                        # don't import column names\n",
    "                     col_types = “iiciiccccccicccccccccc”) # assign classes to column vectors\n",
    "        temp$fileSource <- unlist(strsplit(filename,split = \"/\"))[2]   # write filename to new column\n",
    "        temp                                               # return dataframe\n",
    "}\n",
    "```"
   ]
  },
  {
   "cell_type": "markdown",
   "metadata": {
    "slideshow": {
     "slide_type": "slide"
    }
   },
   "source": [
    "## Psuedo Code for Main File Load (17.7 million observations)\n",
    "\n",
    "1. Recursively get list of files\n",
    "2. read file into dataframe\n",
    "3. for all subsequent files, repeat above and append dataframe to original dataframe\n",
    "4. write dataframe to binary file\n",
    "\n",
    "## Psuedo Code for Data Munging\n",
    "1. Get current year and convert date to 01SEP of that year for pGrade calculation\n",
    "2. Get student birth date\n",
    "3. Perform pGrade calculation for grade codes 56,58,78\n",
    "```\n",
    "Current Year Start Date (minus) student birth date (equals) interval in days\n",
    "(Interval in days (divided by) 365.25) (minus) 5\n",
    "```\n",
    "4. Search and replace for peer grade codes 52,54,62,64\n",
    "  1. 52,62 replace pGrade with -1\n",
    "  2. 54,64 replace pGrade with 0"
   ]
  },
  {
   "cell_type": "markdown",
   "metadata": {
    "slideshow": {
     "slide_type": "slide"
    }
   },
   "source": [
    "## Load Main File and Write Binary\n",
    "\n",
    "_%>% operator is a 'dplyr' function to pass output from left side to right side...keeps code clean_\n",
    "```R\n",
    "dir(path=\"_INSERT_FILE_DIRECTORY_HERE/\",pattern='txt$', recursive=T,full.names=T) %>% # list of files\n",
    "    lapply(FUN=readfunc) %>%# create dataframe by calling readFunc on files\n",
    "    rbind_all %>% # append all dataframes\n",
    "    write_rds(\"INSERT_FILENAME_HERE.rds\") # write binary files\n",
    "```\n",
    "\n",
    "## Calculate Peer Grade\n",
    "\n",
    "```R\n",
    "dataFrame %>%\n",
    "    calcPeerGrade(stBdayColumn,pGradeColumn)\n",
    "```"
   ]
  },
  {
   "cell_type": "markdown",
   "metadata": {
    "slideshow": {
     "slide_type": "slide"
    }
   },
   "source": [
    "## Output\n",
    "- 20160315_fullAcctData.rds          #Full concatenated acct data in R binary format\n",
    "- 20160315_fullAcctData.txt          #Full concatenated acct data in \\P delim format\n",
    "- 20160315_sampleAcctData_10k.rds    #Random sample (n=10,000) in R binary format\n",
    "- 20160315_sampleAcctData_10k.txt    #Random sample (n=10,000) in \\P delim format\n"
   ]
  }
 ],
 "metadata": {
  "kernelspec": {
   "display_name": "R",
   "language": "R",
   "name": "ir"
  },
  "language_info": {
   "codemirror_mode": "r",
   "file_extension": ".r",
   "mimetype": "text/x-r-source",
   "name": "R",
   "pygments_lexer": "r",
   "version": "3.2.3"
  }
 },
 "nbformat": 4,
 "nbformat_minor": 0
}
